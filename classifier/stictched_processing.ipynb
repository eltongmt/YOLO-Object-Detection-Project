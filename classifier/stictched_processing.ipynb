{
 "cells": [
  {
   "cell_type": "code",
   "execution_count": 28,
   "metadata": {},
   "outputs": [],
   "source": [
    "import pandas as pd\n",
    "import os\n",
    "from pathlib import Path\n",
    "from PIL import Image\n",
    "from tqdm import tqdm\n",
    "\n",
    "child_pos_path = \"C:\\\\Users\\\\multimaster\\\\Desktop\\\\JA_DATASET\\\\csvs\\\\JA_child-view\\\\JA_child-view_positive-examples_exp12_buffered.csv\"\n",
    "parent_pos_path = \"C:\\\\Users\\\\multimaster\\\\Desktop\\\\JA_DATASET\\\\csvs\\\\JA_parent-view\\\\JA_parent-view_positive-examples_exp12_buffered.csv\"\n",
    "\n",
    "child_neg_path = \"C:\\\\Users\\\\multimaster\\\\Desktop\\\\JA_DATASET\\\\csvs\\\\JA_child-view\\\\JA_child-view_negative-examples_exp12_buffered.csv\"\n",
    "parent_neg_path = \"C:\\\\Users\\\\multimaster\\\\Desktop\\\\JA_DATASET\\\\csvs\\\\JA_parent-view\\\\JA_parent-view_negative-examples_exp12_buffered.csv\"\n",
    "\n",
    "\n",
    "def stitch_images(image1_path, image2_path, output_path):\n",
    "    # Open the images\n",
    "    image1 = Image.open(image1_path)\n",
    "    image2 = Image.open(image2_path)\n",
    "\n",
    "    # Determine the width and height of the stitched image\n",
    "    width = image1.width + image2.width\n",
    "    height = max(image1.height, image2.height)\n",
    "\n",
    "    # Create a new blank image with the calculated dimensions\n",
    "    stitched_image = Image.new('RGB', (width, height))\n",
    "\n",
    "    # Paste the first image onto the stitched image at (0,0)\n",
    "    stitched_image.paste(image1, (0, 0))\n",
    "\n",
    "    # Paste the second image onto the stitched image at (image1.width, 0)\n",
    "    stitched_image.paste(image2, (image1.width, 0))\n",
    "\n",
    "    # Save the stitched image\n",
    "    stitched_image.save(output_path)"
   ]
  },
  {
   "cell_type": "code",
   "execution_count": 30,
   "metadata": {},
   "outputs": [],
   "source": [
    "child_pos_df = pd.read_csv(child_pos_path)\n",
    "parent_pos_df = pd.read_csv(parent_pos_path)\n",
    "\n",
    "child_neg_df =  pd.read_csv(child_neg_path)\n",
    "parent_neg_df = pd.read_csv(parent_neg_path)\n",
    "\n"
   ]
  },
  {
   "cell_type": "code",
   "execution_count": null,
   "metadata": {},
   "outputs": [],
   "source": []
  },
  {
   "cell_type": "code",
   "execution_count": 27,
   "metadata": {},
   "outputs": [
    {
     "name": "stdout",
     "output_type": "stream",
     "text": [
      "124159\n",
      "124159\n"
     ]
    }
   ],
   "source": [
    "print(len(child_pos_df[\"data_1\"]))\n",
    "print(len(parent_pos_df[\"data_1\"]))"
   ]
  },
  {
   "cell_type": "code",
   "execution_count": 26,
   "metadata": {},
   "outputs": [],
   "source": [
    "output_dir_name = \"exp12_positive_stitched_child_parent\"\n",
    "output_path = Path(f\"C:\\\\Users\\\\multimaster\\\\Desktop\\\\JA_DATASET\\\\{output_dir_name}\")\n",
    "os.makedirs(output_path, exist_ok=True)\n",
    "sub = parent_pos_df[\"data_1\"][0].split(\"\\\\\")[-3][-5:]\n",
    "\n",
    "img_1 = child_pos_df[\"data_1\"][0]\n",
    "img_2 = parent_pos_df[\"data_1\"][0]\n",
    "\n",
    "img_base_name = img_1.split('\\\\')[-1]\n",
    "\n",
    "output_img = output_path.joinpath(f\"{sub}_{img_base_name}\")\n",
    "\n",
    "stitch_images(img_1, img_2, output_img)\n"
   ]
  },
  {
   "cell_type": "code",
   "execution_count": 23,
   "metadata": {},
   "outputs": [
    {
     "data": {
      "text/plain": [
       "WindowsPath('C:/Users/multimaster/Desktop/JA_DATASET/exp12_positive_stitched_child_parent/18625_img_110.jpg')"
      ]
     },
     "execution_count": 23,
     "metadata": {},
     "output_type": "execute_result"
    }
   ],
   "source": [
    "output_img"
   ]
  },
  {
   "cell_type": "code",
   "execution_count": 31,
   "metadata": {},
   "outputs": [
    {
     "name": "stderr",
     "output_type": "stream",
     "text": [
      "100%|██████████| 298320/298320 [2:02:43<00:00, 40.52it/s]  \n"
     ]
    }
   ],
   "source": [
    "output_dir_name = \"exp12_negative_stitched_child_parent\"\n",
    "output_path = Path(f\"C:\\\\Users\\\\multimaster\\\\Desktop\\\\JA_DATASET\\\\{output_dir_name}\")\n",
    "os.makedirs(output_path, exist_ok=True)\n",
    "\n",
    "for i in tqdm(range(len(child_neg_df[\"data_1\"]))):\n",
    "\n",
    "    sub = child_neg_df[\"data_1\"][i].split(\"\\\\\")[-3][-5:]\n",
    "\n",
    "    img_1 = child_neg_df[\"data_1\"][i]\n",
    "    img_2 = parent_neg_df[\"data_1\"][i]\n",
    "\n",
    "    img_base_name = img_1.split('\\\\')[-1]\n",
    "\n",
    "    output_img = output_path.joinpath(f\"{sub}_{img_base_name}\")\n",
    "\n",
    "    stitch_images(img_1, img_2, output_img)"
   ]
  },
  {
   "cell_type": "code",
   "execution_count": null,
   "metadata": {},
   "outputs": [],
   "source": []
  }
 ],
 "metadata": {
  "kernelspec": {
   "display_name": "venv",
   "language": "python",
   "name": "python3"
  },
  "language_info": {
   "codemirror_mode": {
    "name": "ipython",
    "version": 3
   },
   "file_extension": ".py",
   "mimetype": "text/x-python",
   "name": "python",
   "nbconvert_exporter": "python",
   "pygments_lexer": "ipython3",
   "version": "3.11.5"
  }
 },
 "nbformat": 4,
 "nbformat_minor": 2
}
